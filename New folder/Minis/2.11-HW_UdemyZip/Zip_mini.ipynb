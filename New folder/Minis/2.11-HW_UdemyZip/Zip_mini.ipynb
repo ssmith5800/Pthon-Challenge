{
 "cells": [
  {
   "cell_type": "code",
   "execution_count": 4,
   "metadata": {},
   "outputs": [],
   "source": [
    "import os\n",
    "import csv\n",
    "\n",
    "udemy_csv = os.path.join(\"Resources\", \"web_starter.csv\")\n",
    "\n",
    "title = []\n",
    "price = []\n",
    "subscribers = []\n",
    "reviews = []\n",
    "review_percent = []\n",
    "length = []\n",
    "\n",
    "\n",
    "with open(udemy_csv, newline='', encoding='utf-8') as csvfile:\n",
    "    csvreader = csv.reader(csvfile, delimiter=\",\")\n",
    "    for row in csvreader:\n",
    "        \n",
    "        course_title = row[1]\n",
    "        course_price = row[4]\n",
    "        course_subscribers = row[5]\n",
    "        course_reviews = row[6]        \n",
    "        \n",
    "      \n",
    "        title.append(course_title)\n",
    "\n",
    "      \n",
    "        price.append(course_price)\n",
    "\n",
    "        \n",
    "        subscribers.append(course_subscribers)\n",
    "\n",
    "     \n",
    "        reviews.append(course_reviews)\n",
    "\n",
    "    \n",
    "        percent = round(float(course_reviews) / float(course_subscribers), 2)\n",
    "        review_percent.append(percent)\n",
    "\n",
    "       \n",
    "        new_length = row[9].split(\" \")\n",
    "        length.append(float(new_length[0]))\n",
    "\n",
    "cleaned_csv = zip(title, price, subscribers, reviews, review_percent, length)\n",
    "\n",
    "\n",
    "output_file = os.path.join(\"web_final.csv\")\n",
    "\n",
    "\n",
    "with open(output_file, \"w\", newline=\"\") as datafile:\n",
    "    writer = csv.writer(datafile)\n",
    "\n",
    "  \n",
    "    writer.writerow([\"Title\", \"Course Price\", \"Subscribers\", \"Reviews Left\",\n",
    "                     \"Percent of Reviews\", \"Length of Course\"])\n",
    "\n",
    "   \n",
    "    writer.writerows(cleaned_csv)\n"
   ]
  },
  {
   "cell_type": "code",
   "execution_count": null,
   "metadata": {},
   "outputs": [],
   "source": []
  }
 ],
 "metadata": {
  "kernelspec": {
   "display_name": "Python 3",
   "language": "python",
   "name": "python3"
  },
  "language_info": {
   "codemirror_mode": {
    "name": "ipython",
    "version": 3
   },
   "file_extension": ".py",
   "mimetype": "text/x-python",
   "name": "python",
   "nbconvert_exporter": "python",
   "pygments_lexer": "ipython3",
   "version": "3.8.3"
  }
 },
 "nbformat": 4,
 "nbformat_minor": 4
}
